{
  "nbformat": 4,
  "nbformat_minor": 0,
  "metadata": {
    "colab": {
      "name": "assignment_1.ipynb",
      "provenance": []
    },
    "kernelspec": {
      "name": "python3",
      "display_name": "Python 3"
    },
    "language_info": {
      "name": "python"
    }
  },
  "cells": [
    {
      "cell_type": "code",
      "metadata": {
        "colab": {
          "base_uri": "https://localhost:8080/"
        },
        "id": "unoxx1QWODxI",
        "outputId": "809e1165-c1b1-48c5-a8bb-0f8c5d589127"
      },
      "source": [
        "import datetime\n",
        "## Question 1\n",
        "def printName():\n",
        "  name = input(\"Enter Your Name\\t\")\n",
        "  age = int(input(\"Enter You Age\\t\"))\n",
        "  number = int(input(\"Enter the Number of times you want to print Message \\t\"))\n",
        "  age_100 = (datetime.datetime.now().year) + (100-age)\n",
        "  print(\"Hello! \"+name+ \", and you will be of 100 years in \"+ str(age_100)+\"\\n\")\n",
        "\n",
        "  print(\"Printing Multiple copies \\n\")\n",
        "  for i in range(number):\n",
        "    print(\"Hello! \"+name+ \", and you will be of 100 years in \"+ str(age_100)+\"\\n\")\n",
        "  \n",
        "\n",
        "printName()"
      ],
      "execution_count": 1,
      "outputs": [
        {
          "output_type": "stream",
          "text": [
            "Enter Your Name\tFateh Singh\n",
            "Enter You Age\t22\n",
            "Enter the Number of times you want to print Message \t3\n",
            "Hello! Fateh Singh, and you will be of 100 years in 2099\n",
            "\n",
            "Printing Multiple copies \n",
            "\n",
            "Hello! Fateh Singh, and you will be of 100 years in 2099\n",
            "\n",
            "Hello! Fateh Singh, and you will be of 100 years in 2099\n",
            "\n",
            "Hello! Fateh Singh, and you will be of 100 years in 2099\n",
            "\n"
          ],
          "name": "stdout"
        }
      ]
    },
    {
      "cell_type": "code",
      "metadata": {
        "colab": {
          "base_uri": "https://localhost:8080/"
        },
        "id": "H464QAqKOhLT",
        "outputId": "f4a51a87-bc25-413d-8bcd-0c020e1aa3a3"
      },
      "source": [
        "## Question 2\n",
        "def printele(lst):\n",
        "  # Printing Elements Less than 5\n",
        "  new_lst = []\n",
        "  for i in lst:\n",
        "    if i<5: \n",
        "      print(i)\n",
        "      ##1. Appending in List\n",
        "      new_lst.append(i)\n",
        "  print(\"New List is {}\".format(new_lst))\n",
        "\n",
        "  ##2. Appending in one line\n",
        "  new_lst2 = [x for x in lst if x<5]\n",
        "  print(\"New List in one line is{}\".format(new_lst2))\n",
        "\n",
        "  ##3. Asking user and responding accordingly\n",
        "  number = int(input(\"Enter the number to find ele smaller than the number\"))\n",
        "  new_lst3 = [x for x in lst if x<number]\n",
        "  print(\"Elements smaller than{} are {}\".format(number, new_lst3))\n",
        "\n",
        "\n",
        "\n",
        "a = [1, 1, 2, 3, 5, 8, 13, 21, 34, 55, 89]\n",
        "printele(a)\n"
      ],
      "execution_count": 2,
      "outputs": [
        {
          "output_type": "stream",
          "text": [
            "1\n",
            "1\n",
            "2\n",
            "3\n",
            "New List is [1, 1, 2, 3]\n",
            "New List in one line is[1, 1, 2, 3]\n",
            "Enter the number to find ele smaller than the number4\n",
            "Elements smaller than4 are [1, 1, 2, 3]\n"
          ],
          "name": "stdout"
        }
      ]
    },
    {
      "cell_type": "code",
      "metadata": {
        "colab": {
          "base_uri": "https://localhost:8080/",
          "height": 406
        },
        "id": "72souOGfPoiJ",
        "outputId": "8d9c2321-6bb1-42b1-8426-d838d51dc45c"
      },
      "source": [
        "## Question 3 Fibonacci series\n",
        "\n",
        "def fibo(n):\n",
        "   if n <= 1:\n",
        "       return n\n",
        "   else:\n",
        "       return(recur_fibo(n-1) + recur_fibo(n-2))\n",
        "\n",
        "nterms = int(input(\"Enter the number of numbers for seq.\"))\n",
        "print(\"Fibonacci sequence:\")\n",
        "for i in range(nterms):\n",
        "  print(fibo(i))"
      ],
      "execution_count": 4,
      "outputs": [
        {
          "output_type": "stream",
          "text": [
            "Enter the number of numbers for seq.10\n",
            "Fibonacci sequence:\n",
            "0\n",
            "1\n"
          ],
          "name": "stdout"
        },
        {
          "output_type": "error",
          "ename": "NameError",
          "evalue": "ignored",
          "traceback": [
            "\u001b[0;31m---------------------------------------------------------------------------\u001b[0m",
            "\u001b[0;31mNameError\u001b[0m                                 Traceback (most recent call last)",
            "\u001b[0;32m<ipython-input-4-003d41286c7d>\u001b[0m in \u001b[0;36m<module>\u001b[0;34m()\u001b[0m\n\u001b[1;32m     10\u001b[0m \u001b[0mprint\u001b[0m\u001b[0;34m(\u001b[0m\u001b[0;34m\"Fibonacci sequence:\"\u001b[0m\u001b[0;34m)\u001b[0m\u001b[0;34m\u001b[0m\u001b[0;34m\u001b[0m\u001b[0m\n\u001b[1;32m     11\u001b[0m \u001b[0;32mfor\u001b[0m \u001b[0mi\u001b[0m \u001b[0;32min\u001b[0m \u001b[0mrange\u001b[0m\u001b[0;34m(\u001b[0m\u001b[0mnterms\u001b[0m\u001b[0;34m)\u001b[0m\u001b[0;34m:\u001b[0m\u001b[0;34m\u001b[0m\u001b[0;34m\u001b[0m\u001b[0m\n\u001b[0;32m---> 12\u001b[0;31m   \u001b[0mprint\u001b[0m\u001b[0;34m(\u001b[0m\u001b[0mfibo\u001b[0m\u001b[0;34m(\u001b[0m\u001b[0mi\u001b[0m\u001b[0;34m)\u001b[0m\u001b[0;34m)\u001b[0m\u001b[0;34m\u001b[0m\u001b[0;34m\u001b[0m\u001b[0m\n\u001b[0m",
            "\u001b[0;32m<ipython-input-4-003d41286c7d>\u001b[0m in \u001b[0;36mfibo\u001b[0;34m(n)\u001b[0m\n\u001b[1;32m      5\u001b[0m        \u001b[0;32mreturn\u001b[0m \u001b[0mn\u001b[0m\u001b[0;34m\u001b[0m\u001b[0;34m\u001b[0m\u001b[0m\n\u001b[1;32m      6\u001b[0m    \u001b[0;32melse\u001b[0m\u001b[0;34m:\u001b[0m\u001b[0;34m\u001b[0m\u001b[0;34m\u001b[0m\u001b[0m\n\u001b[0;32m----> 7\u001b[0;31m        \u001b[0;32mreturn\u001b[0m\u001b[0;34m(\u001b[0m\u001b[0mrecur_fibo\u001b[0m\u001b[0;34m(\u001b[0m\u001b[0mn\u001b[0m\u001b[0;34m-\u001b[0m\u001b[0;36m1\u001b[0m\u001b[0;34m)\u001b[0m \u001b[0;34m+\u001b[0m \u001b[0mrecur_fibo\u001b[0m\u001b[0;34m(\u001b[0m\u001b[0mn\u001b[0m\u001b[0;34m-\u001b[0m\u001b[0;36m2\u001b[0m\u001b[0;34m)\u001b[0m\u001b[0;34m)\u001b[0m\u001b[0;34m\u001b[0m\u001b[0;34m\u001b[0m\u001b[0m\n\u001b[0m\u001b[1;32m      8\u001b[0m \u001b[0;34m\u001b[0m\u001b[0m\n\u001b[1;32m      9\u001b[0m \u001b[0mnterms\u001b[0m \u001b[0;34m=\u001b[0m \u001b[0mint\u001b[0m\u001b[0;34m(\u001b[0m\u001b[0minput\u001b[0m\u001b[0;34m(\u001b[0m\u001b[0;34m\"Enter the number of numbers for seq.\"\u001b[0m\u001b[0;34m)\u001b[0m\u001b[0;34m)\u001b[0m\u001b[0;34m\u001b[0m\u001b[0;34m\u001b[0m\u001b[0m\n",
            "\u001b[0;31mNameError\u001b[0m: name 'recur_fibo' is not defined"
          ]
        }
      ]
    },
    {
      "cell_type": "code",
      "metadata": {
        "colab": {
          "base_uri": "https://localhost:8080/"
        },
        "id": "mKQVdk6mQT6-",
        "outputId": "e374ba70-2bbe-49f4-9e99-1764849fa47c"
      },
      "source": [
        "## Question 4\n",
        "def lst_unique(lst):\n",
        "  unique = []\n",
        "  for l in lst:\n",
        "    if l not in unique:\n",
        "      unique.append(l)\n",
        "  for x in unique:\n",
        "    print(x)\n",
        "\n",
        "def using_set(lst):\n",
        "  list_set = set(lst)\n",
        "  unique_list = list(list_set)\n",
        "  for x in unique_list:\n",
        "    print(x)\n",
        "\n",
        "a = [1, 1, 2, 3, 5, 8, 13, 21, 34, 55, 89, 21, 89]\n",
        "print(\"Without using Sets\")\n",
        "lst_unique(a)\n",
        "\n"
      ],
      "execution_count": 6,
      "outputs": [
        {
          "output_type": "stream",
          "text": [
            "Without using Sets\n",
            "1\n",
            "2\n",
            "3\n",
            "5\n",
            "8\n",
            "13\n",
            "21\n",
            "34\n",
            "55\n",
            "89\n"
          ],
          "name": "stdout"
        }
      ]
    },
    {
      "cell_type": "code",
      "metadata": {
        "colab": {
          "base_uri": "https://localhost:8080/"
        },
        "id": "0K_QrAwQQhHx",
        "outputId": "c1d2a47f-e5be-412a-87a1-f9acebf5d1b8"
      },
      "source": [
        "print(\"Using Sets\")\n",
        "using_set(a)"
      ],
      "execution_count": 7,
      "outputs": [
        {
          "output_type": "stream",
          "text": [
            "Using Sets\n",
            "1\n",
            "2\n",
            "3\n",
            "34\n",
            "5\n",
            "8\n",
            "13\n",
            "21\n",
            "55\n",
            "89\n"
          ],
          "name": "stdout"
        }
      ]
    },
    {
      "cell_type": "code",
      "metadata": {
        "colab": {
          "base_uri": "https://localhost:8080/"
        },
        "id": "82EUPBq7Qu6m",
        "outputId": "be87d760-ecab-4a23-af10-309e0b1cf805"
      },
      "source": [
        "## Question 5\n",
        "def prime_check():\n",
        "  num = int(input(\"Enter Number you want to check \\t\"))\n",
        "  flag = 1\n",
        "  for i in range(2, int(num/2)):\n",
        "    if(num%i == 0):\n",
        "      flag = 0\n",
        "      break\n",
        "  if(flag==0):\n",
        "    print(\"Number is not Prime\")\n",
        "  else:\n",
        "    print(\"Number is Prime\")\n",
        "\n",
        "prime_check()\n",
        "    "
      ],
      "execution_count": 8,
      "outputs": [
        {
          "output_type": "stream",
          "text": [
            "Enter Number you want to check \t11\n",
            "Number is Prime\n"
          ],
          "name": "stdout"
        }
      ]
    }
  ]
}